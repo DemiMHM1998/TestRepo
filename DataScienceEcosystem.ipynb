{
  "metadata": {
    "kernelspec": {
      "name": "python",
      "display_name": "Python (Pyodide)",
      "language": "python"
    },
    "language_info": {
      "codemirror_mode": {
        "name": "python",
        "version": 3
      },
      "file_extension": ".py",
      "mimetype": "text/x-python",
      "name": "python",
      "nbconvert_exporter": "python",
      "pygments_lexer": "ipython3",
      "version": "3.8"
    }
  },
  "nbformat_minor": 5,
  "nbformat": 4,
  "cells": [
    {
      "id": "c54eef04-f70c-4e4b-b5c4-7dbe231c5931",
      "cell_type": "markdown",
      "source": "# Data Science Tools and Ecosystem",
      "metadata": {}
    },
    {
      "id": "9cbdf3c4-ddd5-4c6a-a106-a41dbe77ea41",
      "cell_type": "markdown",
      "source": "## 作者\nDemimhm",
      "metadata": {}
    },
    {
      "id": "fac95afd-abb9-48cf-a8e3-8ff11b46f223",
      "cell_type": "markdown",
      "source": "在这个 Notebook 中，汇总了数据科学工具和生态系统。",
      "metadata": {}
    },
    {
      "id": "ee76b974-0a16-4376-96ef-8ebbb4b41780",
      "cell_type": "markdown",
      "source": "**目标：**\n- 数据科学家常用的流行语言\n- 数据科学家常用的库\n- 数据科学家常用的开发工具",
      "metadata": {}
    },
    {
      "id": "ffdbdc57-b706-4548-9a94-742e1b150639",
      "cell_type": "markdown",
      "source": "一些数据科学家常用的流行语言包括:\n1. python\n2. R\n3. SQL",
      "metadata": {}
    },
    {
      "id": "78945a98-7208-439b-9c62-2333439418cc",
      "cell_type": "markdown",
      "source": "一些数据科学家常用的库包括:\n1. pandas\n2. numpy\n3. matplotlib",
      "metadata": {}
    },
    {
      "id": "26a6198c-41ec-4870-9326-872250cebce6",
      "cell_type": "markdown",
      "source": "| Data Science Tools|\n|:---:|\n|Jupyter|\n|Anaconda|\n|Visio Code|",
      "metadata": {}
    },
    {
      "id": "7d942d58-b9b8-4cae-b1a6-2c8f28589cc7",
      "cell_type": "markdown",
      "source": "### 以下是一些在 Python 中评估算术表达式的示例。",
      "metadata": {}
    },
    {
      "id": "df23ce3e-e799-488a-985e-82beb1728243",
      "cell_type": "code",
      "source": "# 这是一个简单的算术表达式，用于先乘后加整数\n(3*4)+5",
      "metadata": {
        "trusted": true
      },
      "outputs": [
        {
          "execution_count": 2,
          "output_type": "execute_result",
          "data": {
            "text/plain": "17"
          },
          "metadata": {}
        }
      ],
      "execution_count": 2
    },
    {
      "id": "319790e3-da65-4ce8-94c1-bce03b424c50",
      "cell_type": "code",
      "source": "# 这将通过除以 60 将 200 分钟转换为小时\ntotal_minutes = 200\nhours = total_minutes // 60\nminutes = total_minutes % 60\n\nf\"{hours}小时{minutes}分钟\"",
      "metadata": {
        "trusted": true
      },
      "outputs": [
        {
          "execution_count": 4,
          "output_type": "execute_result",
          "data": {
            "text/plain": "'3小时20分钟'"
          },
          "metadata": {}
        }
      ],
      "execution_count": 4
    },
    {
      "id": "b28c17bd-528e-42e0-8233-d439978a1c44",
      "cell_type": "markdown",
      "source": "",
      "metadata": {}
    }
  ]
}